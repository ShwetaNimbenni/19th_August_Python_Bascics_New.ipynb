{
 "cells": [
  {
   "cell_type": "markdown",
   "id": "dde6e93b-03e3-49a9-b0a6-2ba4d0d5161b",
   "metadata": {},
   "source": [
    "1. Declare two variables, `x` and `y`, and assign them integer values.\n",
    "Swap the values of these variables without using any temporary\n",
    "variable."
   ]
  },
  {
   "cell_type": "code",
   "execution_count": 5,
   "id": "ceeb1d4a-6b85-41f1-936e-8a4f81001c23",
   "metadata": {},
   "outputs": [
    {
     "name": "stdout",
     "output_type": "stream",
     "text": [
      "Value of x and Y after swapping:\n",
      "x = 20\n",
      "y = 10\n"
     ]
    }
   ],
   "source": [
    "x = 10 # added value for x\n",
    "y = 20 # added value for y\n",
    "\n",
    "x = x+y # first will do addition of x and y then value of x is : 30\n",
    "y = x-y # then will minus x and y but current x value is 30 so value of y is : 30 - 20 = 10\n",
    "x = x-y # then x = 30 - 10 : 20 so now we get value for y=10 and x=20\n",
    "\n",
    "print(\"Value of x and Y after swapping:\")\n",
    "print(\"x =\", x)\n",
    "print(\"y =\", y) \n"
   ]
  },
  {
   "cell_type": "markdown",
   "id": "15205f4d-2dd1-42bf-adad-ddbcf3d7372a",
   "metadata": {},
   "source": [
    "2. Create a program that calculates the area of a rectangle. Take the\n",
    "length and width as inputs from the user and store them in variables.\n",
    "Calculate and display the area."
   ]
  },
  {
   "cell_type": "code",
   "execution_count": 6,
   "id": "b2bb4923-e031-4134-a583-9b0cb722763e",
   "metadata": {},
   "outputs": [
    {
     "name": "stdin",
     "output_type": "stream",
     "text": [
      "Enter the length of the rectangle:  34\n",
      "Enter the width of the rectangle:  67\n"
     ]
    },
    {
     "name": "stdout",
     "output_type": "stream",
     "text": [
      "The area of the rectangle is: 2278.0\n"
     ]
    }
   ],
   "source": [
    "length = float(input(\"Enter the length of the rectangle: \")) # will add input value as length\n",
    "width = float(input(\"Enter the width of the rectangle: \")) # will add input value as width\n",
    "\n",
    "# Calculating the area\n",
    "area = length * width # value is : length and width will get area below\n",
    "\n",
    "# Displaying the area\n",
    "print(\"The area of the rectangle is:\", area)"
   ]
  },
  {
   "cell_type": "markdown",
   "id": "870a9a22-d2c4-4ead-beb0-fa0fd9210fbf",
   "metadata": {},
   "source": [
    "3. Write a Python program that converts temperature from Celsius to\n",
    "Fahrenheit. Take the temperature in Celsius as input, store it in a\n",
    "variable, convert it to Fahrenheit, and display the result."
   ]
  },
  {
   "cell_type": "code",
   "execution_count": 7,
   "id": "41aa3085-a063-4999-9cee-59fb3862ecbf",
   "metadata": {},
   "outputs": [
    {
     "name": "stdin",
     "output_type": "stream",
     "text": [
      "enter value 3.5\n"
     ]
    },
    {
     "name": "stdout",
     "output_type": "stream",
     "text": [
      "3.5 Celsius is equal to 38.30 Fahrenheit\n"
     ]
    }
   ],
   "source": [
    "celsius = float(input(\"enter value\")) # will enter value to calculate\n",
    "\n",
    "fahrenheit = (celsius * 9/5) + 32  # calculation (3.5 * 9/5) + 32 then (3.5 * 1.8) + 32 then 6.3 + 32 then result is : 38.3\n",
    "\n",
    "print(f\"{celsius} Celsius is equal to {fahrenheit:.2f} Fahrenheit\")"
   ]
  },
  {
   "cell_type": "markdown",
   "id": "56052cc1-4aae-48e4-8c5f-5e269f49a277",
   "metadata": {},
   "source": [
    "TOPIC: String Based Questions\n",
    "1. Write a Python program that takes a string as input and prints the\n",
    "length of the string."
   ]
  },
  {
   "cell_type": "code",
   "execution_count": 8,
   "id": "9b36b2ea-ef83-4824-b90a-d7ee81ffab96",
   "metadata": {},
   "outputs": [
    {
     "name": "stdin",
     "output_type": "stream",
     "text": [
      "Enter a string:  hhfdshfdsf\n"
     ]
    },
    {
     "name": "stdout",
     "output_type": "stream",
     "text": [
      "The length of the string is: 10\n"
     ]
    }
   ],
   "source": [
    "input_string = input(\"Enter a string: \") # enter input from user\n",
    "\n",
    "# Calculate the length of the string\n",
    "string_length = len(input_string)\n",
    "\n",
    "# Print the length of the string\n",
    "print(f\"The length of the string is: {string_length}\") #  \"f\" is used to create an f-string and know asformatted string literal"
   ]
  },
  {
   "cell_type": "markdown",
   "id": "e007e7e7-c075-44a7-b4b7-19ada1c1f293",
   "metadata": {},
   "source": [
    "2. Create a program that takes a sentence from the user and counts the\n",
    "number of vowels (a, e, i, o, u) in the string."
   ]
  },
  {
   "cell_type": "code",
   "execution_count": 9,
   "id": "afaf4a70-3827-41bc-948c-4251e862d169",
   "metadata": {},
   "outputs": [
    {
     "name": "stdin",
     "output_type": "stream",
     "text": [
      "Enter a sentence:  shweta\n"
     ]
    },
    {
     "name": "stdout",
     "output_type": "stream",
     "text": [
      "The number of vowels in the sentence is: 2\n"
     ]
    }
   ],
   "source": [
    "sentence = input(\"Enter a sentence: \")\n",
    "\n",
    "sentence = sentence.lower() # Convert the sentence to lowercase to count both lowercase and uppercase vowels\n",
    "\n",
    "vowel_count = 0 # Initialize a counter for vowels\n",
    "\n",
    "vowels = \"aeiou\" # Define the set of vowels\n",
    "\n",
    "\n",
    "for char in sentence:\n",
    "    if char in vowels:\n",
    "        vowel_count += 1\n",
    "\n",
    "print(f\"The number of vowels in the sentence is: {vowel_count}\") # Print the count of vowels\n"
   ]
  },
  {
   "cell_type": "markdown",
   "id": "e70f43fe-dfc4-4ef8-8d2f-7a679eeb958c",
   "metadata": {},
   "source": [
    "3. Given a string, reverse the order of characters using string slicing and\n",
    "print the reversed string."
   ]
  },
  {
   "cell_type": "code",
   "execution_count": 12,
   "id": "e19fb1bb-a813-4ceb-b4f5-ffd8d841df41",
   "metadata": {},
   "outputs": [
    {
     "name": "stdin",
     "output_type": "stream",
     "text": [
      "enter string shweta\n"
     ]
    },
    {
     "name": "stdout",
     "output_type": "stream",
     "text": [
      "Reversed String: atewhs\n"
     ]
    }
   ],
   "source": [
    "original_string =  input(\"enter string\") # enter input as string\n",
    "\n",
    "reverse_string = original_string[::-1] # here first colon indicates the start and second colon without a value after it indicates the end of the slicing operation.\n",
    "\n",
    "print(\"Reversed String:\" , reverse_string) # string get revised"
   ]
  },
  {
   "cell_type": "markdown",
   "id": "6150aa7a-947a-4a81-802d-f43a7e8cbcc9",
   "metadata": {},
   "source": [
    "4. Write a program that takes a string as input and checks if it is a\n",
    "palindrome (reads the same forwards and backwards)."
   ]
  },
  {
   "cell_type": "code",
   "execution_count": 18,
   "id": "ec0bce9f-f597-474e-8b86-791f323bd632",
   "metadata": {},
   "outputs": [
    {
     "name": "stdin",
     "output_type": "stream",
     "text": [
      "Enter a string:  nitin\n"
     ]
    },
    {
     "name": "stdout",
     "output_type": "stream",
     "text": [
      "The entered string is a palindrome.\n"
     ]
    }
   ],
   "source": [
    "# Plindorm means will get same result when we reverse the string ex. Nitin, Madam etc.\n",
    "\n",
    "input_string = input(\"Enter a string: \") # enter input as string\n",
    "\n",
    "\n",
    "# Remove spaces and convert to lowercase for accurate palindrome check\n",
    "cleaned_string = input_string.replace(\" \", \"\").lower()\n",
    "\n",
    "# Reverse the string using string slicing\n",
    "reversed_string = cleaned_string[::-1]\n",
    "\n",
    "# below condition to check original string and the reversed string are the same\n",
    "if cleaned_string == reversed_string:\n",
    "    print(\"The entered string is a palindrome.\")\n",
    "else:\n",
    "    print(\"The entered string is not a palindrome.\")\n",
    "\n"
   ]
  },
  {
   "cell_type": "markdown",
   "id": "d77675c5-675f-499d-90cb-03da52916788",
   "metadata": {},
   "source": [
    "5. Create a program that takes a string as input and removes all the\n",
    "spaces from it. Print the modified string without spaces."
   ]
  },
  {
   "cell_type": "code",
   "execution_count": 20,
   "id": "42509c81-3862-4e08-817c-b4d7bcff9b23",
   "metadata": {},
   "outputs": [
    {
     "name": "stdin",
     "output_type": "stream",
     "text": [
      "Enter a string:  gjdhshf jdsd\n"
     ]
    },
    {
     "name": "stdout",
     "output_type": "stream",
     "text": [
      "Modified string without spaces: gjdhshfjdsd\n"
     ]
    }
   ],
   "source": [
    "input_string = input(\"Enter a string: \")# enter input as string\n",
    "\n",
    "updated_string = input_string.replace(\" \", \"\") # Remove spaces from the string\n",
    "\n",
    "print(\"Modified string without spaces:\", updated_string) # Below I have added sapece between string it will remove the space between the string"
   ]
  },
  {
   "cell_type": "code",
   "execution_count": null,
   "id": "419dcb76-ae79-406a-848c-c93314cc7f9c",
   "metadata": {},
   "outputs": [],
   "source": []
  }
 ],
 "metadata": {
  "kernelspec": {
   "display_name": "Python 3 (ipykernel)",
   "language": "python",
   "name": "python3"
  },
  "language_info": {
   "codemirror_mode": {
    "name": "ipython",
    "version": 3
   },
   "file_extension": ".py",
   "mimetype": "text/x-python",
   "name": "python",
   "nbconvert_exporter": "python",
   "pygments_lexer": "ipython3",
   "version": "3.10.8"
  }
 },
 "nbformat": 4,
 "nbformat_minor": 5
}
